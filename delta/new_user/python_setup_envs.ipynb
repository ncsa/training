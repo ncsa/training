{
 "cells": [
  {
   "cell_type": "raw",
   "id": "85d05823",
   "metadata": {},
   "source": [
    "DRAFT - work in progress"
   ]
  },
  {
   "cell_type": "markdown",
   "id": "e1cdc804",
   "metadata": {},
   "source": [
    "On Delta, you may install your own python software stacks, as needed. There are choices when customizing your python setup. You may use any of these methods with any of the python versions or instances described below (or you may install your own python versions):\n",
    "\n",
    "### venv (python virtual environment)\n",
    "\n",
    "Can name environments (metadata) and have multiple environments per python version or instance.\n",
    "\n",
    "### conda environments\n",
    "\n",
    "Similar to venv but with more flexibility, see this comparison table.\n",
    "\n",
    "### micromamba (micromamba is a clone of conda but faster to use)\n",
    "\n",
    "Use micromamba install guide and then use conda commands the usual way.\n",
    "\n",
    "### pip3: pip3 install –user <python_package>\n",
    "\n",
    "Useful when you only need one python environment per python version or instance.\n",
    "\n",
    "### conda-env-mod: conda-env-mod lmod module generator from Purdue\n",
    "\n",
    "The conda-env-mod script will generate a python module you can load or share with your team–making it simpler to manage multiple python scenarios that you can activate and deactivate with module commands.\n"
   ]
  },
  {
   "cell_type": "markdown",
   "id": "20618c2b",
   "metadata": {},
   "source": [
    "venv (python virtual environment)\n",
    "Can name environments (metadata) and have multiple environments per python version or instance.\n"
   ]
  },
  {
   "cell_type": "code",
   "execution_count": 5,
   "id": "b0e26533",
   "metadata": {},
   "outputs": [
    {
     "name": "stdout",
     "output_type": "stream",
     "text": [
      "/u/arnoldg/my_python_venv_numpy/bin/python\n",
      "Requirement already satisfied: pip in /u/arnoldg/my_python_venv_numpy/lib/python3.9/site-packages (23.2.1)\n",
      "Requirement already satisfied: numpy in /u/arnoldg/my_python_venv_numpy/lib/python3.9/site-packages (1.25.2)\n",
      "Package    Version\n",
      "---------- -------\n",
      "numpy      1.25.2\n",
      "pip        23.2.1\n",
      "setuptools 58.1.0\n",
      "['ALLOW_THREADS', 'BUFSIZE', 'CLIP', 'DataSource', 'ERR_CALL', 'ERR_DEFAULT', 'ERR_IGNORE', 'ERR_LOG', 'ERR_PRINT', 'ERR_RAISE', 'ERR_WARN', 'FLOATING_POINT_SUPPORT', 'FPE_DIVIDEBYZERO', 'FPE_INVALID', 'FPE_OVERFLOW', 'FPE_UNDERFLOW', 'False_', 'Inf', 'Infinity', 'MAXDIMS', 'MAY_SHARE_BOUNDS', 'MAY_SHARE_EXACT', 'NAN', 'NINF', 'NZERO', 'NaN', 'PINF', 'PZERO', 'RAISE', 'RankWarning', 'SHIFT_DIVIDEBYZERO', 'SHIFT_INVALID', 'SHIFT_OVERFLOW', 'SHIFT_UNDERFLOW', 'ScalarType', 'True_', 'UFUNC_BUFSIZE_DEFAULT', 'UFUNC_PYVALS_NAME', 'WRAP', '_CopyMode', '_NoValue', '_UFUNC_API', '__NUMPY_SETUP__', '__all__', '__builtins__', '__cached__', '__config__', '__deprecated_attrs__', '__dir__', '__doc__', '__expired_functions__', '__file__', '__former_attrs__', '__future_scalars__', '__getattr__', '__git_version__', '__loader__', '__name__', '__package__', '__path__', '__spec__', '__version__', '_add_newdoc_ufunc', '_builtins', '_distributor_init', '_financial_names', '_get_promotion_state', '_globals', '_int_extended_msg', '_mat', '_no_nep50_warning', '_pyinstaller_hooks_dir', '_pytesttester', '_set_promotion_state', '_specific_msg', '_typing', '_using_numpy2_behavior', '_utils', '_version', 'abs', 'absolute', 'add', 'add_docstring', 'add_newdoc', 'add_newdoc_ufunc', 'all', 'allclose', 'alltrue', 'amax', 'amin', 'angle', 'any', 'append', 'apply_along_axis', 'apply_over_axes', 'arange', 'arccos', 'arccosh', 'arcsin', 'arcsinh', 'arctan', 'arctan2', 'arctanh', 'argmax', 'argmin', 'argpartition', 'argsort', 'argwhere', 'around', 'array', 'array2string', 'array_equal', 'array_equiv', 'array_repr', 'array_split', 'array_str', 'asanyarray', 'asarray', 'asarray_chkfinite', 'ascontiguousarray', 'asfarray', 'asfortranarray', 'asmatrix', 'atleast_1d', 'atleast_2d', 'atleast_3d', 'average', 'bartlett', 'base_repr', 'binary_repr', 'bincount', 'bitwise_and', 'bitwise_not', 'bitwise_or', 'bitwise_xor', 'blackman', 'block', 'bmat', 'bool_', 'broadcast', 'broadcast_arrays', 'broadcast_shapes', 'broadcast_to', 'busday_count', 'busday_offset', 'busdaycalendar', 'byte', 'byte_bounds', 'bytes_', 'c_', 'can_cast', 'cast', 'cbrt', 'cdouble', 'ceil', 'cfloat', 'char', 'character', 'chararray', 'choose', 'clip', 'clongdouble', 'clongfloat', 'column_stack', 'common_type', 'compare_chararrays', 'compat', 'complex128', 'complex256', 'complex64', 'complex_', 'complexfloating', 'compress', 'concatenate', 'conj', 'conjugate', 'convolve', 'copy', 'copysign', 'copyto', 'corrcoef', 'correlate', 'cos', 'cosh', 'count_nonzero', 'cov', 'cross', 'csingle', 'ctypeslib', 'cumprod', 'cumproduct', 'cumsum', 'datetime64', 'datetime_as_string', 'datetime_data', 'deg2rad', 'degrees', 'delete', 'deprecate', 'deprecate_with_doc', 'diag', 'diag_indices', 'diag_indices_from', 'diagflat', 'diagonal', 'diff', 'digitize', 'disp', 'divide', 'divmod', 'dot', 'double', 'dsplit', 'dstack', 'dtype', 'dtypes', 'e', 'ediff1d', 'einsum', 'einsum_path', 'emath', 'empty', 'empty_like', 'equal', 'errstate', 'euler_gamma', 'exceptions', 'exp', 'exp2', 'expand_dims', 'expm1', 'extract', 'eye', 'fabs', 'fastCopyAndTranspose', 'fft', 'fill_diagonal', 'find_common_type', 'finfo', 'fix', 'flatiter', 'flatnonzero', 'flexible', 'flip', 'fliplr', 'flipud', 'float128', 'float16', 'float32', 'float64', 'float_', 'float_power', 'floating', 'floor', 'floor_divide', 'fmax', 'fmin', 'fmod', 'format_float_positional', 'format_float_scientific', 'format_parser', 'frexp', 'from_dlpack', 'frombuffer', 'fromfile', 'fromfunction', 'fromiter', 'frompyfunc', 'fromregex', 'fromstring', 'full', 'full_like', 'gcd', 'generic', 'genfromtxt', 'geomspace', 'get_array_wrap', 'get_include', 'get_printoptions', 'getbufsize', 'geterr', 'geterrcall', 'geterrobj', 'gradient', 'greater', 'greater_equal', 'half', 'hamming', 'hanning', 'heaviside', 'histogram', 'histogram2d', 'histogram_bin_edges', 'histogramdd', 'hsplit', 'hstack', 'hypot', 'i0', 'identity', 'iinfo', 'imag', 'in1d', 'index_exp', 'indices', 'inexact', 'inf', 'info', 'infty', 'inner', 'insert', 'int16', 'int32', 'int64', 'int8', 'int_', 'intc', 'integer', 'interp', 'intersect1d', 'intp', 'invert', 'is_busday', 'isclose', 'iscomplex', 'iscomplexobj', 'isfinite', 'isfortran', 'isin', 'isinf', 'isnan', 'isnat', 'isneginf', 'isposinf', 'isreal', 'isrealobj', 'isscalar', 'issctype', 'issubclass_', 'issubdtype', 'issubsctype', 'iterable', 'ix_', 'kaiser', 'kernel_version', 'kron', 'lcm', 'ldexp', 'left_shift', 'less', 'less_equal', 'lexsort', 'lib', 'linalg', 'linspace', 'little_endian', 'load', 'loadtxt', 'log', 'log10', 'log1p', 'log2', 'logaddexp', 'logaddexp2', 'logical_and', 'logical_not', 'logical_or', 'logical_xor', 'logspace', 'longcomplex', 'longdouble', 'longfloat', 'longlong', 'lookfor', 'ma', 'mask_indices', 'mat', 'matmul', 'matrix', 'max', 'maximum', 'maximum_sctype', 'may_share_memory', 'mean', 'median', 'memmap', 'meshgrid', 'mgrid', 'min', 'min_scalar_type', 'minimum', 'mintypecode', 'mod', 'modf', 'moveaxis', 'msort', 'multiply', 'nan', 'nan_to_num', 'nanargmax', 'nanargmin', 'nancumprod', 'nancumsum', 'nanmax', 'nanmean', 'nanmedian', 'nanmin', 'nanpercentile', 'nanprod', 'nanquantile', 'nanstd', 'nansum', 'nanvar', 'nbytes', 'ndarray', 'ndenumerate', 'ndim', 'ndindex', 'nditer', 'negative', 'nested_iters', 'newaxis', 'nextafter', 'nonzero', 'not_equal', 'numarray', 'number', 'obj2sctype', 'object_', 'ogrid', 'oldnumeric', 'ones', 'ones_like', 'outer', 'packbits', 'pad', 'partition', 'percentile', 'pi', 'piecewise', 'place', 'poly', 'poly1d', 'polyadd', 'polyder', 'polydiv', 'polyfit', 'polyint', 'polymul', 'polynomial', 'polysub', 'polyval', 'positive', 'power', 'printoptions', 'prod', 'product', 'promote_types', 'ptp', 'put', 'put_along_axis', 'putmask', 'quantile', 'r_', 'rad2deg', 'radians', 'random', 'ravel', 'ravel_multi_index', 'real', 'real_if_close', 'rec', 'recarray', 'recfromcsv', 'recfromtxt', 'reciprocal', 'record', 'remainder', 'repeat', 'require', 'reshape', 'resize', 'result_type', 'right_shift', 'rint', 'roll', 'rollaxis', 'roots', 'rot90', 'round', 'round_', 'row_stack', 's_', 'safe_eval', 'save', 'savetxt', 'savez', 'savez_compressed', 'sctype2char', 'sctypeDict', 'sctypes', 'searchsorted', 'select', 'set_numeric_ops', 'set_printoptions', 'set_string_function', 'setbufsize', 'setdiff1d', 'seterr', 'seterrcall', 'seterrobj', 'setxor1d', 'shape', 'shares_memory', 'short', 'show_config', 'show_runtime', 'sign', 'signbit', 'signedinteger', 'sin', 'sinc', 'single', 'singlecomplex', 'sinh', 'size', 'sometrue', 'sort', 'sort_complex', 'source', 'spacing', 'split', 'sqrt', 'square', 'squeeze', 'stack', 'std', 'str_', 'string_', 'subtract', 'sum', 'swapaxes', 'take', 'take_along_axis', 'tan', 'tanh', 'tensordot', 'test', 'testing', 'tile', 'timedelta64', 'trace', 'tracemalloc_domain', 'transpose', 'trapz', 'tri', 'tril', 'tril_indices', 'tril_indices_from', 'trim_zeros', 'triu', 'triu_indices', 'triu_indices_from', 'true_divide', 'trunc', 'typecodes', 'typename', 'ubyte', 'ufunc', 'uint', 'uint16', 'uint32', 'uint64', 'uint8', 'uintc', 'uintp', 'ulonglong', 'unicode_', 'union1d', 'unique', 'unpackbits', 'unravel_index', 'unsignedinteger', 'unwrap', 'ushort', 'vander', 'var', 'vdot', 'vectorize', 'version', 'void', 'vsplit', 'vstack', 'where', 'who', 'zeros', 'zeros_like']\n"
     ]
    }
   ],
   "source": [
    "%%bash\n",
    "# python here is the anaconda python from this notebook, but it could be any python\n",
    "python -m venv $HOME/my_python_venv_numpy\n",
    "# activate the virtual environment, it stays activated for the duration of this shell\n",
    "source $HOME/my_python_venv_numpy/bin/activate\n",
    "which python\n",
    "# note, in the virtual environment, you may pip install and things will install into only the virtual environment\n",
    "pip install --upgrade pip\n",
    "pip install numpy\n",
    "# verify what is installed into this virtual environment\n",
    "pip list\n",
    "# test it ...\n",
    "python -c \"import numpy; print(dir(numpy))\"\n",
    "\n",
    "# cleanup\n",
    "rm -r $HOME/my_python_env_numpy\n"
   ]
  },
  {
   "cell_type": "markdown",
   "id": "9952a882",
   "metadata": {},
   "source": [
    "conda environments\n",
    "Similar to venv but with more flexibility.\n"
   ]
  },
  {
   "cell_type": "raw",
   "id": "6f442cce",
   "metadata": {},
   "source": [
    "# demo conda from a terminal\n",
    "module load anaconda3_gpu\n",
    "conda create --name my_conda_numpy\n",
    "conda env list\n",
    "conda init bash # you may get warnings or sudo prompts, just hit return through these\n",
    "source $HOME/.bashrc  # or login with a new terminal\n",
    "conda activate my_conda_numpy\n",
    "conda list\n",
    "conda install numpy  # ignore conda update warning for now\n",
    "# answer y to proceed\n",
    "# check that our numpy was installed into the conda environment\n",
    "conda list | grep numpy\n",
    "# test our install of numpy\n",
    "python -c \"import numpy; print(dir(numpy))\"\n",
    "conda deactivate  # notice the prompt reverts to (base) showing you are in the base environment\n",
    "\n",
    "# cleanup\n",
    "conda env remove --name my_conda_numpy"
   ]
  },
  {
   "cell_type": "markdown",
   "id": "df3e702a",
   "metadata": {},
   "source": [
    "micromamba (micromamba is a clone of conda but faster to use)\n",
    "\n",
    "https://mamba.readthedocs.io/en/latest/user_guide/micromamba.html\n",
    "\n",
    "https://mamba.readthedocs.io/en/latest/user_guide/micromamba.html\n",
    "\n",
    "Use micromamba install guide and then use conda commands the usual way."
   ]
  },
  {
   "cell_type": "markdown",
   "id": "0b460e81",
   "metadata": {},
   "source": [
    "pip3: pip3 install –user\n",
    "Useful when you only need one python environment per python version or instance.\n"
   ]
  },
  {
   "cell_type": "code",
   "execution_count": 4,
   "id": "71daa0cf",
   "metadata": {},
   "outputs": [
    {
     "name": "stdout",
     "output_type": "stream",
     "text": [
      "Collecting numpy\n",
      "  Downloading numpy-1.25.2-cp310-cp310-manylinux_2_17_x86_64.manylinux2014_x86_64.whl (18.2 MB)\n",
      "     ━━━━━━━━━━━━━━━━━━━━━━━━━━━━━━━━━━━━━━━ 18.2/18.2 MB 121.4 MB/s eta 0:00:00\n",
      "Installing collected packages: numpy\n",
      "Successfully installed numpy-1.25.2\n",
      "['ALLOW_THREADS', 'BUFSIZE', 'CLIP', 'DataSource', 'ERR_CALL', 'ERR_DEFAULT', 'ERR_IGNORE', 'ERR_LOG', 'ERR_PRINT', 'ERR_RAISE', 'ERR_WARN', 'FLOATING_POINT_SUPPORT', 'FPE_DIVIDEBYZERO', 'FPE_INVALID', 'FPE_OVERFLOW', 'FPE_UNDERFLOW', 'False_', 'Inf', 'Infinity', 'MAXDIMS', 'MAY_SHARE_BOUNDS', 'MAY_SHARE_EXACT', 'NAN', 'NINF', 'NZERO', 'NaN', 'PINF', 'PZERO', 'RAISE', 'RankWarning', 'SHIFT_DIVIDEBYZERO', 'SHIFT_INVALID', 'SHIFT_OVERFLOW', 'SHIFT_UNDERFLOW', 'ScalarType', 'True_', 'UFUNC_BUFSIZE_DEFAULT', 'UFUNC_PYVALS_NAME', 'WRAP', '_CopyMode', '_NoValue', '_UFUNC_API', '__NUMPY_SETUP__', '__all__', '__builtins__', '__cached__', '__config__', '__deprecated_attrs__', '__dir__', '__doc__', '__expired_functions__', '__file__', '__former_attrs__', '__future_scalars__', '__getattr__', '__git_version__', '__loader__', '__name__', '__package__', '__path__', '__spec__', '__version__', '_add_newdoc_ufunc', '_builtins', '_distributor_init', '_financial_names', '_get_promotion_state', '_globals', '_int_extended_msg', '_mat', '_no_nep50_warning', '_pyinstaller_hooks_dir', '_pytesttester', '_set_promotion_state', '_specific_msg', '_typing', '_using_numpy2_behavior', '_utils', '_version', 'abs', 'absolute', 'add', 'add_docstring', 'add_newdoc', 'add_newdoc_ufunc', 'all', 'allclose', 'alltrue', 'amax', 'amin', 'angle', 'any', 'append', 'apply_along_axis', 'apply_over_axes', 'arange', 'arccos', 'arccosh', 'arcsin', 'arcsinh', 'arctan', 'arctan2', 'arctanh', 'argmax', 'argmin', 'argpartition', 'argsort', 'argwhere', 'around', 'array', 'array2string', 'array_equal', 'array_equiv', 'array_repr', 'array_split', 'array_str', 'asanyarray', 'asarray', 'asarray_chkfinite', 'ascontiguousarray', 'asfarray', 'asfortranarray', 'asmatrix', 'atleast_1d', 'atleast_2d', 'atleast_3d', 'average', 'bartlett', 'base_repr', 'binary_repr', 'bincount', 'bitwise_and', 'bitwise_not', 'bitwise_or', 'bitwise_xor', 'blackman', 'block', 'bmat', 'bool_', 'broadcast', 'broadcast_arrays', 'broadcast_shapes', 'broadcast_to', 'busday_count', 'busday_offset', 'busdaycalendar', 'byte', 'byte_bounds', 'bytes_', 'c_', 'can_cast', 'cast', 'cbrt', 'cdouble', 'ceil', 'cfloat', 'char', 'character', 'chararray', 'choose', 'clip', 'clongdouble', 'clongfloat', 'column_stack', 'common_type', 'compare_chararrays', 'compat', 'complex128', 'complex256', 'complex64', 'complex_', 'complexfloating', 'compress', 'concatenate', 'conj', 'conjugate', 'convolve', 'copy', 'copysign', 'copyto', 'corrcoef', 'correlate', 'cos', 'cosh', 'count_nonzero', 'cov', 'cross', 'csingle', 'ctypeslib', 'cumprod', 'cumproduct', 'cumsum', 'datetime64', 'datetime_as_string', 'datetime_data', 'deg2rad', 'degrees', 'delete', 'deprecate', 'deprecate_with_doc', 'diag', 'diag_indices', 'diag_indices_from', 'diagflat', 'diagonal', 'diff', 'digitize', 'disp', 'divide', 'divmod', 'dot', 'double', 'dsplit', 'dstack', 'dtype', 'dtypes', 'e', 'ediff1d', 'einsum', 'einsum_path', 'emath', 'empty', 'empty_like', 'equal', 'errstate', 'euler_gamma', 'exceptions', 'exp', 'exp2', 'expand_dims', 'expm1', 'extract', 'eye', 'fabs', 'fastCopyAndTranspose', 'fft', 'fill_diagonal', 'find_common_type', 'finfo', 'fix', 'flatiter', 'flatnonzero', 'flexible', 'flip', 'fliplr', 'flipud', 'float128', 'float16', 'float32', 'float64', 'float_', 'float_power', 'floating', 'floor', 'floor_divide', 'fmax', 'fmin', 'fmod', 'format_float_positional', 'format_float_scientific', 'format_parser', 'frexp', 'from_dlpack', 'frombuffer', 'fromfile', 'fromfunction', 'fromiter', 'frompyfunc', 'fromregex', 'fromstring', 'full', 'full_like', 'gcd', 'generic', 'genfromtxt', 'geomspace', 'get_array_wrap', 'get_include', 'get_printoptions', 'getbufsize', 'geterr', 'geterrcall', 'geterrobj', 'gradient', 'greater', 'greater_equal', 'half', 'hamming', 'hanning', 'heaviside', 'histogram', 'histogram2d', 'histogram_bin_edges', 'histogramdd', 'hsplit', 'hstack', 'hypot', 'i0', 'identity', 'iinfo', 'imag', 'in1d', 'index_exp', 'indices', 'inexact', 'inf', 'info', 'infty', 'inner', 'insert', 'int16', 'int32', 'int64', 'int8', 'int_', 'intc', 'integer', 'interp', 'intersect1d', 'intp', 'invert', 'is_busday', 'isclose', 'iscomplex', 'iscomplexobj', 'isfinite', 'isfortran', 'isin', 'isinf', 'isnan', 'isnat', 'isneginf', 'isposinf', 'isreal', 'isrealobj', 'isscalar', 'issctype', 'issubclass_', 'issubdtype', 'issubsctype', 'iterable', 'ix_', 'kaiser', 'kernel_version', 'kron', 'lcm', 'ldexp', 'left_shift', 'less', 'less_equal', 'lexsort', 'lib', 'linalg', 'linspace', 'little_endian', 'load', 'loadtxt', 'log', 'log10', 'log1p', 'log2', 'logaddexp', 'logaddexp2', 'logical_and', 'logical_not', 'logical_or', 'logical_xor', 'logspace', 'longcomplex', 'longdouble', 'longfloat', 'longlong', 'lookfor', 'ma', 'mask_indices', 'mat', 'matmul', 'matrix', 'max', 'maximum', 'maximum_sctype', 'may_share_memory', 'mean', 'median', 'memmap', 'meshgrid', 'mgrid', 'min', 'min_scalar_type', 'minimum', 'mintypecode', 'mod', 'modf', 'moveaxis', 'msort', 'multiply', 'nan', 'nan_to_num', 'nanargmax', 'nanargmin', 'nancumprod', 'nancumsum', 'nanmax', 'nanmean', 'nanmedian', 'nanmin', 'nanpercentile', 'nanprod', 'nanquantile', 'nanstd', 'nansum', 'nanvar', 'nbytes', 'ndarray', 'ndenumerate', 'ndim', 'ndindex', 'nditer', 'negative', 'nested_iters', 'newaxis', 'nextafter', 'nonzero', 'not_equal', 'numarray', 'number', 'obj2sctype', 'object_', 'ogrid', 'oldnumeric', 'ones', 'ones_like', 'outer', 'packbits', 'pad', 'partition', 'percentile', 'pi', 'piecewise', 'place', 'poly', 'poly1d', 'polyadd', 'polyder', 'polydiv', 'polyfit', 'polyint', 'polymul', 'polynomial', 'polysub', 'polyval', 'positive', 'power', 'printoptions', 'prod', 'product', 'promote_types', 'ptp', 'put', 'put_along_axis', 'putmask', 'quantile', 'r_', 'rad2deg', 'radians', 'random', 'ravel', 'ravel_multi_index', 'real', 'real_if_close', 'rec', 'recarray', 'recfromcsv', 'recfromtxt', 'reciprocal', 'record', 'remainder', 'repeat', 'require', 'reshape', 'resize', 'result_type', 'right_shift', 'rint', 'roll', 'rollaxis', 'roots', 'rot90', 'round', 'round_', 'row_stack', 's_', 'safe_eval', 'save', 'savetxt', 'savez', 'savez_compressed', 'sctype2char', 'sctypeDict', 'sctypes', 'searchsorted', 'select', 'set_numeric_ops', 'set_printoptions', 'set_string_function', 'setbufsize', 'setdiff1d', 'seterr', 'seterrcall', 'seterrobj', 'setxor1d', 'shape', 'shares_memory', 'short', 'show_config', 'show_runtime', 'sign', 'signbit', 'signedinteger', 'sin', 'sinc', 'single', 'singlecomplex', 'sinh', 'size', 'sometrue', 'sort', 'sort_complex', 'source', 'spacing', 'split', 'sqrt', 'square', 'squeeze', 'stack', 'std', 'str_', 'string_', 'subtract', 'sum', 'swapaxes', 'take', 'take_along_axis', 'tan', 'tanh', 'tensordot', 'test', 'testing', 'tile', 'timedelta64', 'trace', 'tracemalloc_domain', 'transpose', 'trapz', 'tri', 'tril', 'tril_indices', 'tril_indices_from', 'trim_zeros', 'triu', 'triu_indices', 'triu_indices_from', 'true_divide', 'trunc', 'typecodes', 'typename', 'ubyte', 'ufunc', 'uint', 'uint16', 'uint32', 'uint64', 'uint8', 'uintc', 'uintp', 'ulonglong', 'unicode_', 'union1d', 'unique', 'unpackbits', 'unravel_index', 'unsignedinteger', 'unwrap', 'ushort', 'vander', 'var', 'vdot', 'vectorize', 'version', 'void', 'vsplit', 'vstack', 'where', 'who', 'zeros', 'zeros_like']\n"
     ]
    },
    {
     "name": "stderr",
     "output_type": "stream",
     "text": [
      "WARNING: You are using pip version 22.0.4; however, version 23.2.1 is available.\n",
      "You should consider upgrading via the '/sw/spack/delta-2022-03/apps/python/3.10.4-gcc-11.2.0-3cjjp6w/bin/python3.10 -m pip install --upgrade pip' command.\n",
      "WARNING: You are using pip version 22.0.4; however, version 23.2.1 is available.\n",
      "You should consider upgrading via the '/sw/spack/delta-2022-03/apps/python/3.10.4-gcc-11.2.0-3cjjp6w/bin/python3.10 -m pip install --upgrade pip' command.\n"
     ]
    }
   ],
   "source": [
    "%%bash\n",
    "module load python\n",
    "pip3 list | grep numpy\n",
    "pip3 install --user numpy\n",
    "python -c \"import numpy; print(dir(numpy))\"\n",
    "\n",
    "# cleanup\n",
    "pip3 uninstall -y numpy"
   ]
  },
  {
   "cell_type": "markdown",
   "id": "e5821c58",
   "metadata": {},
   "source": [
    "conda-env-mod: conda-env-mod lmod module generator from Purdue\n",
    "\n",
    "https://github.com/amaji/conda-env-mod\n",
    "\n",
    "The conda-env-mod script will generate a python module you can load or share with your team–making it simpler to manage multiple python scenarios that you can activate and deactivate with module commands."
   ]
  },
  {
   "cell_type": "code",
   "execution_count": 6,
   "id": "8e750fd2",
   "metadata": {},
   "outputs": [
    {
     "name": "stdout",
     "output_type": "stream",
     "text": [
      "Cloning into 'conda-env-mod'...\n",
      "remote: Enumerating objects: 218, done.\u001b[K\n",
      "remote: Counting objects: 100% (43/43), done.\u001b[K\n",
      "remote: Compressing objects: 100% (18/18), done.\u001b[K\n",
      "remote: Total 218 (delta 23), reused 34 (delta 20), pack-reused 175\u001b[K\n",
      "Receiving objects: 100% (218/218), 757.33 KiB | 6.26 MiB/s, done.\n",
      "Resolving deltas: 100% (77/77), done.\n"
     ]
    }
   ],
   "source": [
    "!git clone https://github.com/amaji/conda-env-mod"
   ]
  },
  {
   "cell_type": "code",
   "execution_count": null,
   "id": "26c8ca9f",
   "metadata": {},
   "outputs": [
    {
     "name": "stdout",
     "output_type": "stream",
     "text": [
      "\u001b[m[?47h\u001b[?1h\u001b=\n",
      "    This tool makes a minimal Anaconda environment and generates a module file\u001b[m\n",
      "    for using it.\u001b[m\n",
      "\u001b[m\n",
      "    \u001b[1mUsage:\u001b[m conda-env-mod <subcommand> <required argument> [optional argument(s)]\u001b[m\n",
      "           conda-env-mod help\u001b[m\n",
      "\u001b[m\n",
      "    \u001b[1mSubcommands:\u001b[m create, delete, export, module, kernel\u001b[m\n",
      "\u001b[m\n",
      "    \u001b[1mRequired arguments:\u001b[m \u001b[m\n",
      "        Specify only one of the following.\u001b[m\n",
      "           -n|--name ENV_NAME          : name of the environment.\u001b[m\n",
      "           -p|--prefix ENV_PATH        : location of the environment.\u001b[m\n",
      "\u001b[m\n",
      "    \u001b[1mOptional arguments:\u001b[m\u001b[m\n",
      "           -a|--appname APP_NAME       : name of the module corresponding\u001b[m\n",
      "                                         to the environment.\u001b[m\n",
      "                                         Default is 'conda-env'.        \u001b[m\n",
      "           -b|--base-python            : use the Python from base Anaconda modul\u001b[me (rarely needed)\u001b[m\n",
      "           -m|--moduledir MODULE_DIR   : location of module file.\u001b[m\n",
      "           -t|--module-template MODULE_TEMPLATE : use a custom module template t\u001b[mo generate the module file.\u001b[m\n",
      ":\u001b[K"
     ]
    }
   ],
   "source": [
    "!conda-env-mod/conda-env-mod help"
   ]
  },
  {
   "cell_type": "raw",
   "id": "4a228912",
   "metadata": {},
   "source": [
    "\n",
    "    Examples:\n",
    "        1) Create an environment in the home directory:\n",
    "\n",
    "               conda-env-mod create -n my_test\n",
    "\n",
    "        2) Create an environment at a custom location, such as a group-shared\n",
    "           directory:\n",
    "\n",
    "               conda-env-mod create -p /my/project/dir/my_test\n",
    "\n",
    "        3) Create an environment that can be used inside Jupyter Hub:\n",
    "\n",
    "               conda-env-mod create -n my_test -j\n",
    "\n",
    "        4) To use the environment, please read the instructions on the console\n",
    "           after running any of the commands above:\n",
    "\n",
    "               module use /u/arnoldg/privatemodules\n",
    "               module load conda-env/my_test-py3.6.4\n",
    "               conda install ....\n",
    "               pip install ....\n",
    "\n",
    "           * Note: Do NOT use 'pip install --user' as it does not install \n",
    "             packages in the environment."
   ]
  },
  {
   "cell_type": "raw",
   "id": "c20abf38",
   "metadata": {},
   "source": [
    "\n",
    "# demo in a terminal\n",
    "conda-env-mod create -n my_numpy\n",
    "# y to proceed\n"
   ]
  },
  {
   "cell_type": "raw",
   "id": "41854368",
   "metadata": {},
   "source": [
    "Proceed ([y]/n)? y\n",
    "\n",
    "Preparing transaction: ...working... done\n",
    "Verifying transaction: ...working... done\n",
    "Executing transaction: ...working... done\n",
    "+---------------------------------------------------------------+\n",
    "| To use this environment, load the following modules:          |\n",
    "|     module use $HOME/privatemodules                           |\n",
    "|     module load conda-env/my_numpy-py3.9.12                   |\n",
    "| (then standard 'conda install' / 'pip install' / run scripts) |\n",
    "+---------------------------------------------------------------+\n",
    "Your environment \"my_numpy\" was created successfully.\n",
    "\n",
    "[arnoldg@dt-login03 running_jobs]$ module load conda-env/my_numpy-py3.9.12\n",
    "[arnoldg@dt-login03 running_jobs]$ which python\n",
    "~/.conda/envs/rhel8.8/conda-23.1.0/my_numpy/bin/python\n",
    "[arnoldg@dt-login03 running_jobs]$ pip install numpy\n",
    "Collecting numpy\n",
    "  Obtaining dependency information for numpy from https://files.pythonhosted.org/packages/69/1f/c95b1108a9972a52d7b1b63ed8ca70466b59b8c1811bd121f1e667cc45d8/numpy-1.25.2-cp39-cp39-manylinux_2_17_x86_64.manylinux2014_x86_64.whl.metadata\n",
    "  Using cached numpy-1.25.2-cp39-cp39-manylinux_2_17_x86_64.manylinux2014_x86_64.whl.metadata (5.6 kB)\n",
    "Using cached numpy-1.25.2-cp39-cp39-manylinux_2_17_x86_64.manylinux2014_x86_64.whl (18.3 MB)\n",
    "Installing collected packages: numpy\n",
    "Successfully installed numpy-1.25.2\n",
    "[arnoldg@dt-login03 running_jobs]$ pip list\n",
    "Package    Version\n",
    "---------- -------\n",
    "numpy      1.25.2\n",
    "pip        23.2.1\n",
    "setuptools 68.0.0\n",
    "wheel      0.38.4\n",
    "[arnoldg@dt-login03 running_jobs]$ "
   ]
  },
  {
   "cell_type": "code",
   "execution_count": null,
   "id": "de8d73c5",
   "metadata": {},
   "outputs": [],
   "source": []
  }
 ],
 "metadata": {
  "kernelspec": {
   "display_name": "Python 3 (ipykernel)",
   "language": "python",
   "name": "python3"
  },
  "language_info": {
   "codemirror_mode": {
    "name": "ipython",
    "version": 3
   },
   "file_extension": ".py",
   "mimetype": "text/x-python",
   "name": "python",
   "nbconvert_exporter": "python",
   "pygments_lexer": "ipython3",
   "version": "3.9.12"
  }
 },
 "nbformat": 4,
 "nbformat_minor": 5
}
