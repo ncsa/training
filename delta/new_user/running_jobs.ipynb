{
 "cells": [
  {
   "cell_type": "markdown",
   "id": "1bd98d62-c9e5-4518-a827-d3d3cc63bd4e",
   "metadata": {},
   "source": [
    "DRAFT  -needs edits\n",
    "==========\n",
    "run the cells from login node for a static version \n"
   ]
  },
  {
   "cell_type": "markdown",
   "id": "32490c55-fa82-49c3-bd4d-af88e157e96e",
   "metadata": {},
   "source": [
    "Running Jobs\n",
    "===============\n",
    "\n",
    "Accessing the Compute Nodes\n",
    "-------------------------------\n",
    "\n",
    "Delta implements the Slurm batch environment to manage access to the compute nodes. \n",
    "Use the Slurm commands to run batch jobs or for interactive access to compute nodes. \n",
    "See: https://slurm.schedmd.com/quickstart.html for an introduction to Slurm. \n",
    "There are multiple ways to access compute nodes on Delta.\n",
    "\n",
    "Batch scripts (sbatch) or Interactive (srun , salloc) , which is right for me?\n",
    "\n",
    "- `sbatch` . Use batch scripts for jobs that are debugged, ready to run, and don't require interaction.\n",
    "  Sample Slurm batch job scripts are provided in the :ref:`examples` section.\n",
    "  For mixed resource heterogeneous jobs see: https://slurm.schedmd.com/heterogeneous_jobs.html#submitting. \n",
    "  Slurm also supports job arrays for easy management of a set of similar jobs, see:   https://slurm.schedmd.com/job_array.html.\n",
    "\n",
    "- `srun` . For interactive use of a compute node, srun will run a single command through slurm on a compute node. srun blocks, it will wait until slurm has scheduled compute resources and when it returns, the job is complete.\n",
    "\n",
    "- `salloc` . Also interactive, use salloc when you want to reserve compute resources for a period of time and interact with them using multiple commands.  Each command you type after your salloc session begins will run : on the login node if it is just a normal command, or on your reserved compute resources if prefixed with srun.  Type \"exit\" when finished with an salloc allocation if you want to end it before the time expires.\n",
    "\n",
    "\n",
    "Direct SSH access to a compute node in a running job from a dt-loginNN node is enabled once the job has started:"
   ]
  },
  {
   "cell_type": "code",
   "execution_count": null,
   "id": "f3ab2497",
   "metadata": {},
   "outputs": [],
   "source": [
    "!squeue -u $USER"
   ]
  },
  {
   "cell_type": "code",
   "execution_count": null,
   "id": "9f890882",
   "metadata": {},
   "outputs": [],
   "source": [
    "!ssh gpub046 uptime"
   ]
  },
  {
   "cell_type": "markdown",
   "id": "96b8441e-8a13-4519-86c4-cc7c762785a5",
   "metadata": {},
   "source": [
    "Scheduler\n",
    "-------------\n",
    "\n",
    "For information, see the Slurm quick reference guide: https://slurm.schedmd.com/quickstart.html\n",
    "\n",
    "Partitions (Queues)\n",
    "-----------------------\n",
    "\n",
    "Delta Production Default Partition Values\n",
    "~~~~~~~~~~~~~~~~~~~~~~~~~~~~~~~~~~~~~~~~~\n",
    "\n",
    "======================= ==================\n",
    "Property                Value\n",
    "======================= ==================\n",
    "Default Memory per core 1000 MB\n",
    "Default Wall-clock time 30 minutes\n",
    "======================= ==================\n",
    "\n",
    "Delta Production Partitions/Queues\n",
    "~~~~~~~~~~~~~~~~~~~~~~~~~~~~~~~~~~~"
   ]
  },
  {
   "cell_type": "raw",
   "id": "94745516",
   "metadata": {},
   "source": [
    "\n",
    "+-----------------------+-----------+-------------------+--------------+---------------------------+---------------+\n",
    "| Partition/Queue       | Node Type | Max Nodes         | Max Duration | Max Running in            | Charge Factor |\n",
    "|                       |           |                   |              |                           |               |\n",
    "|                       |           | per Job           |              | Queue/user*               |               |\n",
    "+=======================+===========+===================+==============+===========================+===============+\n",
    "| cpu                   | CPU       | TBD               | 48 hr        | TBD                       | 1.0           |\n",
    "+-----------------------+-----------+-------------------+--------------+---------------------------+---------------+\n",
    "| cpu-interactive       | CPU       | TBD               | 30 min       | TBD                       | 2.0           |\n",
    "+-----------------------+-----------+-------------------+--------------+---------------------------+---------------+\n",
    "| gpuA100x4             | quad-A100 | TBD               | 48 hr        | TBD                       | 1.0           |\n",
    "|                       |           |                   |              |                           |               |\n",
    "| gpuA100x4*            |           |                   |              |                           |               |\n",
    "|                       |           |                   |              |                           |               |\n",
    "| (* indicates this     |           |                   |              |                           |               |\n",
    "| is the default        |           |                   |              |                           |               |\n",
    "|                       |           |                   |              |                           |               |\n",
    "| queue, but submit jobs|           |                   |              |                           |               |\n",
    "|                       |           |                   |              |                           |               |\n",
    "| to gpuA100x4)         |           |                   |              |                           |               |\n",
    "+-----------------------+-----------+-------------------+--------------+---------------------------+---------------+\n",
    "| gpuA100x4-interactive | quad-A100 | TBD               | 1 hr         | TBD                       | 2.0           |\n",
    "+-----------------------+-----------+-------------------+--------------+---------------------------+---------------+\n",
    "| gpuA100x8             | octa-A100 | TBD               | 48 hr        | TBD                       | 1.5           |\n",
    "+-----------------------+-----------+-------------------+--------------+---------------------------+---------------+\n",
    "| gpuA100x8-interactive | octa-A100 | TBD               | 1 hr         | TBD                       | 3.0           |\n",
    "+-----------------------+-----------+-------------------+--------------+---------------------------+---------------+\n",
    "| gpuA40x4              | quad-A40  | TBD               | 48 hr        | TBD                       | 0.5           |\n",
    "+-----------------------+-----------+-------------------+--------------+---------------------------+---------------+\n",
    "| gpuA40x4-interactive  | quad-A40  | TBD               | 1 hr         | TBD                       | 1.0           |\n",
    "+-----------------------+-----------+-------------------+--------------+---------------------------+---------------+\n",
    "| gpuMI100x8            | octa-MI100| TBD               | 48 hr        | TBD                       | 0.25          |\n",
    "+-----------------------+-----------+-------------------+--------------+---------------------------+---------------+\n",
    "| gpuMI100x8-interactive| octa-MI100| TBD               | 1 hr         | TBD                       | 0.5           |\n",
    "+-----------------------+-----------+-------------------+--------------+---------------------------+---------------+\n"
   ]
  },
  {
   "cell_type": "markdown",
   "id": "2b34ed98-808f-4968-a72b-8424a336c2f4",
   "metadata": {},
   "source": [
    "sview View of Slurm Partitions\n",
    "------------------------------\n"
   ]
  },
  {
   "attachments": {
    "sview_sinfo.png": {
     "image/png": "[encoded data removed]"
    }
   },
   "cell_type": "markdown",
   "id": "45c905be",
   "metadata": {},
   "source": [
    "![sview_sinfo.png](attachment:sview_sinfo.png)"
   ]
  },
  {
   "cell_type": "markdown",
   "id": "82337a1b-f4b7-4cef-8525-97f556757b0c",
   "metadata": {},
   "source": [
    "Node Policies\n",
    "-------------\n",
    "\n",
    "Node-sharing is the default for jobs. \n",
    "Node-exclusive mode can be obtained by specifying all the consumable resources for that node type or adding the following Slurm options:\n",
    "\n",
    "    --exclusive --mem=0\n",
    "\n",
    "GPU NVIDIA MIG (GPU slicing) for the A100 will be supported at a future date.\n",
    "\n",
    "Pre-emptive jobs will be supported at a future date.\n",
    "\n",
    "Job Policies\n",
    "----------------\n",
    "\n",
    "The default job requeue or restart policy is set to not allow jobs to be automatically requeued or restarted (as of 12/19/2022).\n",
    "To enable automatic requeue and restart of a job by Slurm, please add the following Slurm directive:\n",
    "\n",
    "    --requeue \n",
    "\n",
    "When a job is requeued due to an event like a node failure, the batch script is initiated from its beginning. \n",
    "Job scripts need to be written to handle automatically restarting from checkpoints.\n",
    "\n",
    "Job Management\n",
    "-----------------"
   ]
  },
  {
   "cell_type": "markdown",
   "id": "cd4a4c90-b029-4999-99ac-f6fe64b0bdda",
   "metadata": {},
   "source": [
    "sbatch\n",
    "------\n",
    "\n",
    "Batch jobs are submitted through a *job script* (as in the `examples`) using the sbatch command. \n",
    "Job scripts generally start with a series of Slurm *directives* that describe requirements of the job, such as number of nodes and wall time required, to the batch system/scheduler (Slurm directives can also be specified as options on the sbatch command line; command line options take precedence over those in the script). \n",
    "The rest of the batch script consists of user commands.\n",
    "\n",
    "The syntax for sbatch is: **sbatch** [list of sbatch options] script_name. Refer to the sbatch man page for detailed information on the options.\n",
    "\n",
    "\n",
    "    $ sbatch tensorflow_cpu.slurm\n",
    "    Submitted batch job 2337924\n",
    "    $ squeue -u $USER\n",
    "         JOBID PARTITION     NAME     USER ST       TIME  NODES NODELIST(REASON)\n",
    "        2337924 cpu-inter    tfcpu  mylogin  R       0:46      1 cn006"
   ]
  },
  {
   "cell_type": "code",
   "execution_count": null,
   "id": "72c200d9",
   "metadata": {},
   "outputs": [],
   "source": [
    "!cd /projects/bbka/slurm_test_scripts/cpu/stream; sbatch stream.slurm"
   ]
  },
  {
   "cell_type": "markdown",
   "id": "1a7bc5fc-a06d-4529-a5e1-be0709f08bcb",
   "metadata": {},
   "source": [
    "squeue/scontrol/sinfo\n",
    "---------------------\n",
    "\n",
    "Commands that display batch job and partition information."
   ]
  },
  {
   "cell_type": "raw",
   "id": "c59543ca",
   "metadata": {},
   "source": [
    "+-------------------------+-------------------------------------------+\n",
    "| Slurm Example Command   | Description                               |\n",
    "+=========================+===========================================+\n",
    "| squeue -a               | Lists the status of all jobs on the       |\n",
    "|                         | system.                                   |\n",
    "+-------------------------+-------------------------------------------+\n",
    "| squeue -u $USER         | Lists the status of all your jobs in the  |\n",
    "|                         | batch system.                             |\n",
    "+-------------------------+-------------------------------------------+\n",
    "| squeue -j JobID         | Lists nodes allocated to a running job in |\n",
    "|                         | addition to basic information..           |\n",
    "+-------------------------+-------------------------------------------+\n",
    "| scontrol show job JobID | Lists detailed information on a particular|\n",
    "|                         | job.                                      |\n",
    "+-------------------------+-------------------------------------------+\n",
    "| sinfo -a                | Lists summary information on all the      |\n",
    "|                         | partition.                                |\n",
    "+-------------------------+-------------------------------------------+\n",
    "\n",
    "See the man pages for other available options."
   ]
  },
  {
   "cell_type": "markdown",
   "id": "6c605f30",
   "metadata": {},
   "source": [
    "srun\n",
    "-----\n",
    "\n",
    "The **srun** command initiates an interactive job or process on compute nodes.\n",
    "\n",
    "For example, the following command will run an interactive job in the gpuA100x4 or gpuA40x4 partition with a wall-clock time limit of 30 minutes, using one node and 16 cores per node and 1 GPU:\n",
    "\n",
    ".. code-block::\n",
    "\n",
    "   srun -A account_name --time=00:30:00 --nodes=1 --ntasks-per-node=16 \\\n",
    "   --partition=gpuA100x4,gpuA40x4 --gpus=1 --mem=16g --pty /bin/bash\n",
    "\n",
    "After you enter the command, wait for Slurm to start the job. \n",
    "As with any job, your interactive job is queued until the specified number of nodes is available. \n",
    "If you specify a small number of nodes for smaller amounts of time, the wait should be shorter because your job will backfill among larger jobs. \n",
    "You will see something like this:\n"
   ]
  },
  {
   "cell_type": "code",
   "execution_count": null,
   "id": "f4981909",
   "metadata": {},
   "outputs": [],
   "source": [
    "!srun --mem=16g --nodes=1 --ntasks-per-node=1 --cpus-per-task=4 \\\n",
    "   --partition=gpuA100x4-interactive,gpuA40x4-interactive --account=bbka-delta-gpu \\\n",
    "   --gpus-per-node=1 --time=00:30:00 --x11 --pty /bin/bash"
   ]
  },
  {
   "cell_type": "code",
   "execution_count": null,
   "id": "e06a0fca",
   "metadata": {},
   "outputs": [],
   "source": [
    "%%bash\n",
    "uptime    # clean this away but use for salloc\n",
    "hostname\n",
    "srun --mem=16g --nodes=1 --ntasks-per-node=1 --cpus-per-task=4 \\\n",
    "   --partition=gpuA100x4-interactive,gpuA40x4-interactive --account=bbka-delta-gpu \\\n",
    "   --gpus-per-node=1 --time=00:30:00  /bin/bash"
   ]
  },
  {
   "cell_type": "markdown",
   "id": "3e987de7-2a01-41e8-92a5-8209fa3777d1",
   "metadata": {},
   "source": [
    "When finished, use the ``exit`` command to end the bash shell on the compute resource and hence the slurm srun job.\n",
    "\n",
    "salloc\n",
    "------\n",
    "\n",
    "While being interactive like srun, salloc allocates compute resources for you, while leaving your shell on the login node.  Run commands on the login node as usual, use \"exit\" to end an salloc session early, and use srun with no extra flags to launch processes on the compute resources.\n"
   ]
  },
  {
   "cell_type": "code",
   "execution_count": null,
   "id": "95513aad",
   "metadata": {},
   "outputs": [],
   "source": [
    "%%bash\n",
    "salloc --mem=16g --nodes=1 --ntasks-per-node=1 --cpus-per-task=2 \\\n",
    "     --partition=gpuA40x4-interactive,gpuA100x4-interactive \\\n",
    "     --account=bbka-delta-gpu --time=00:30:00 --gpus-per-node=1\n",
    "cd /projects/bbka/slurm_test_scripts/gpu/cuda/cuda-samples/bin/x86_64/linux/release\n",
    "pwd\n",
    "srun ./bandwidthTest \n",
    "exit"
   ]
  },
  {
   "cell_type": "markdown",
   "id": "bbae3846-c36d-44ba-8f88-bc5d69d13dd5",
   "metadata": {},
   "source": [
    "scancel\n",
    "-------\n",
    "\n",
    "The scancel command deletes a queued job or terminates a running job. The example below deletes/terminates the job with the associated JobID.\n",
    "\n",
    "    scancel JobID \n",
    "\n",
    "Job Status\n",
    "----------\n",
    "\n",
    "If the NODELIST(REASON) is MaxGRESPerAccount, that means that a user has exceeded the number of cores or GPUs allotted per user or project for a given partition.\n",
    "\n",
    "Useful Batch Job Environment Variables\n",
    "-------------------------------------"
   ]
  },
  {
   "cell_type": "raw",
   "id": "d19cdd63",
   "metadata": {},
   "source": [
    "+-------------------------+-------------------------------------------+----------------------------------------------+\n",
    "| Description             | Slurm Environment Variable                | Detail Description                           |\n",
    "+=========================+===========================================+==============================================+\n",
    "| Array JobID             | $SLURM_ARRAY_JOB_ID                       | Each member of a job array is assigned       |\n",
    "|                         |                                           |                                              |\n",
    "|                         | $SLURM_ARRAY_TASK_ID                      | a unique identifier                          |\n",
    "+-------------------------+-------------------------------------------+----------------------------------------------+\n",
    "| Job Submission Directory| $SLURM_SUBMIT_DIR                         | By default, jobs start in the directory      |\n",
    "|                         |                                           |                                              |\n",
    "|                         |                                           | that the job was submitted from. So the      |\n",
    "|                         |                                           |                                              |\n",
    "|                         |                                           | \"cd $SLURM_SUBMIT_DIR\" command is not needed.|\n",
    "+-------------------------+-------------------------------------------+----------------------------------------------+\n",
    "| JobID                   | $SLURM_JOB_ID                             | Job identifier assigned to the job           |\n",
    "+-------------------------+-------------------------------------------+----------------------------------------------+\n",
    "| Machine(node) list      | $SLURM_NODELIST                           | Variable name that contains the list of      |\n",
    "|                         |                                           |                                              |\n",
    "|                         |                                           | nodes assigned to the batch job              |\n",
    "+-------------------------+-------------------------------------------+----------------------------------------------+\n",
    "\n",
    "See the sbatch man page for additional environment variables available.\n"
   ]
  },
  {
   "cell_type": "markdown",
   "id": "7f777dc4-a65b-489d-803b-7fbf536c55a1",
   "metadata": {},
   "source": [
    "Monitoring a Node During a Job\n",
    "---------------------------------\n",
    "\n",
    "You have SSH access to nodes in your running job(s). Some of the basic monitoring tools are demonstrated in the example transcript below. Screen shots are appended so that you can see the output from the tools. Most common Linux utilities are available from the compute nodes (free, strace, ps, and so on).\n",
    "\n",
    "Here's an example showing the use of \"top\" to see what is running on a node with a job in progress."
   ]
  },
  {
   "cell_type": "code",
   "execution_count": null,
   "id": "1e0e3ad4",
   "metadata": {},
   "outputs": [],
   "source": [
    "%%bash\n",
    "salloc \\\n",
    " --mem=16g \\\n",
    " --nodes=1 \\\n",
    " --ntasks-per-node=1 \\\n",
    " --cpus-per-task=2 \\\n",
    " --partition=cpu-interactive \\\n",
    " --account=bbka-delta-cpu \\\n",
    " --time=00:30:00\n",
    " \n",
    " squeue -u $USER\n",
    " MYCOMPUTENODE=`squeue -u $USER --noheader --Format=NodeList | tail -1`\n",
    " echo MYCOMPUTENODE=${MYCOMPUTENODE} ----------------------------\n",
    " ssh ${MYCOMPUTENODE} top -u $USER -b -n 1\n",
    " "
   ]
  },
  {
   "cell_type": "markdown",
   "id": "16a6ccfc-0122-45fd-b50a-85bbb023d600",
   "metadata": {},
   "source": [
    "Interactive X11 Support\n",
    "------------------------------\n",
    "\n",
    "To run an X11 based application on a compute node in an interactive session, the use of the ``--x11`` switch with ``srun`` is needed. \n",
    "For example, to run a single core job that uses 1G of memory with X11 (in this case an xterm) do the following:\n",
    "\n",
    "    srun -A abcd-delta-cpu  --partition=cpu-interactive \\\n",
    "        --nodes=1 --tasks=1 --tasks-per-node=1 \\\n",
    "        --cpus-per-task=2 --mem=16g \\\n",
    "        --x11  xterm\n"
   ]
  },
  {
   "cell_type": "markdown",
   "id": "d15c0f1c-d5b7-4d1a-a033-f690c27bf93d",
   "metadata": {},
   "source": [
    "File System Dependency Specification for Jobs\n",
    "---------------------------------------------\n",
    "\n",
    "Please see the `depend_arch` section in System Architecture for information on setting job file system dependencies for jobs.\n",
    "\n",
    "Jobs that do not specify a dependency on WORK (/projects) and SCRATCH (/scratch) will be assumed to depend only on the HOME (/u) file system.\n",
    "\n"
   ]
  },
  {
   "cell_type": "markdown",
   "id": "a9f5e106-4547-4990-9984-ad8c6b99ab11",
   "metadata": {},
   "source": [
    "Sample Scripts\n",
    "----------------\n",
    "\n",
    "Serial Jobs on CPU Nodes\n",
    "\n",
    "\n",
    "   <details open>\n",
    "   <summary><a><b>serial example script</b> <i>(click to expand/collapse)</i></a></summary>\n",
    "\n",
    "    $ cat job.slurm\n",
    "    !/bin/bash\n",
    "    #SBATCH --mem=16g\n",
    "    #SBATCH --nodes=1\n",
    "    #SBATCH --ntasks-per-node=1\n",
    "    #SBATCH --cpus-per-task=4    # <- match to OMP_NUM_THREADS\n",
    "    #SBATCH --partition=cpu      # <- or one of: gpuA100x4 gpuA40x4 gpuA100x8 gpuMI100x8\n",
    "    #SBATCH --account=account_name\n",
    "    #SBATCH --job-name=myjobtest\n",
    "    #SBATCH --time=00:10:00      # hh:mm:ss for the job\n",
    "    #SBATCH --constraint=\"scratch\"\n",
    "    ### GPU options ###\n",
    "    ##SBATCH --gpus-per-node=2\n",
    "    ##SBATCH --gpu-bind=none     # <- or closest\n",
    "    ##SBATCH --mail-user=you@yourinstitution.edu\n",
    "    ##SBATCH --mail-type=\"BEGIN,END\" See sbatch or srun man pages for more email options\n",
    "\n",
    "    module reset # drop modules and explicitly load the ones needed\n",
    "                # (good job metadata and reproducibility)\n",
    "                # $WORK and $SCRATCH are now set\n",
    "    module load python  # ... or any appropriate modules\n",
    "    module list  # job documentation and metadata\n",
    "    echo \"job is starting on `hostname`\"\n",
    "    srun python3 myprog.py\n"
   ]
  },
  {
   "cell_type": "markdown",
   "id": "57693083-a958-4df4-af6c-b3151947de9f",
   "metadata": {},
   "source": [
    "For demo purposes only.  _Do not use python and jupyter notebooks to schedule jobs with sbatch._"
   ]
  },
  {
   "cell_type": "code",
   "execution_count": 12,
   "id": "77b75c82-bfd7-402f-b899-c28d62f89225",
   "metadata": {},
   "outputs": [
    {
     "name": "stdout",
     "output_type": "stream",
     "text": [
      "/projects/bbka/slurm_test_scripts/cpu/mpi_and_io_benchmarks\n",
      "#!/bin/bash\n",
      "#SBATCH --mem=14g\n",
      "#SBATCH --ntasks-per-node=16\n",
      "#SBATCH --nodes=1\n",
      "#SBATCH --time=00:15:00\n",
      "#SBATCH --partition=cpu-interactive\n",
      "#SBATCH --account=bbka-delta-cpu\n",
      "#SBATCH --constraint=\"scratch,projects\"\n",
      "#SBATCH --job-name=osu_bench\n",
      " \n",
      "module reset\n",
      "module load modtree/cpu\n",
      "module list  # job documentation and metadata\n",
      "cat /etc/os-release\n",
      "echo \"job is starting on `hostname`\"\n",
      "\n",
      "time srun --error=slurm-${SLURM_JOB_ID}.stderr cpi << EOF\n",
      "10\n",
      "100\n",
      "1000\n",
      "0\n",
      "EOF\n",
      "Submitted batch job 2377591\n",
      "total 85\n",
      "-rw-rw----+ 1 arnoldg grp_202     1695 Sep  8 12:17 slurm-2377591.out\n",
      "-rw-r-----+ 1 arnoldg grp_202     4352 Sep  8 12:17 slurm-2377591.stderr\n"
     ]
    }
   ],
   "source": [
    "%%bash\n",
    "cd /projects/bbka/slurm_test_scripts/cpu/mpi_and_io_benchmarks\n",
    "pwd\n",
    "cat sample_mpi.slurm\n",
    "sbatch --wait sample_mpi.slurm\n",
    "ls -lt|head -3"
   ]
  },
  {
   "cell_type": "markdown",
   "id": "0e2d3522-aece-4275-b24d-176ed5fae4e9",
   "metadata": {},
   "source": [
    "Enter the job number above in the cat below , then run cell to view..."
   ]
  },
  {
   "cell_type": "code",
   "execution_count": 13,
   "id": "eac44a35-7844-418e-9431-070099186bb5",
   "metadata": {},
   "outputs": [
    {
     "name": "stdout",
     "output_type": "stream",
     "text": [
      "/projects/bbka/slurm_test_scripts/cpu/mpi_and_io_benchmarks\n",
      "Running \"module reset\". Resetting modules to system default. The following $MODULEPATH directories have been removed: None\n",
      "\n",
      "Due to MODULEPATH changes, the following have been reloaded:\n",
      "  1) gcc/11.2.0     2) openmpi/4.1.2     3) ucx/1.11.2\n",
      "\n",
      "The following have been reloaded with a version change:\n",
      "  1) modtree/gpu => modtree/cpu\n",
      "\n",
      "\n",
      "Currently Loaded Modules:\n",
      "  1) cue-login-env/1.0   6) libfabric/1.14.0     11) ucx/1.11.2\n",
      "  2) default             7) lustre/2.14.0_ddn23  12) openmpi/4.1.2\n",
      "  3) gcc/11.2.0          8) openssh/8.0p1        13) modtree/cpu\n",
      "  4) knem/1.1.4          9) pmix/3.2.3\n",
      "  5) libevent/2.1.8     10) rdma-core/32.0\n",
      "\n",
      " \n",
      "\n",
      "NAME=\"Red Hat Enterprise Linux\"\n",
      "VERSION=\"8.8 (Ootpa)\"\n",
      "ID=\"rhel\"\n",
      "ID_LIKE=\"fedora\"\n",
      "VERSION_ID=\"8.8\"\n",
      "PLATFORM_ID=\"platform:el8\"\n",
      "PRETTY_NAME=\"Red Hat Enterprise Linux 8.8 (Ootpa)\"\n",
      "ANSI_COLOR=\"0;31\"\n",
      "CPE_NAME=\"cpe:/o:redhat:enterprise_linux:8::baseos\"\n",
      "HOME_URL=\"https://www.redhat.com/\"\n",
      "DOCUMENTATION_URL=\"https://access.redhat.com/documentation/en-us/red_hat_enterprise_linux/8\"\n",
      "BUG_REPORT_URL=\"https://bugzilla.redhat.com/\"\n",
      "\n",
      "REDHAT_BUGZILLA_PRODUCT=\"Red Hat Enterprise Linux 8\"\n",
      "REDHAT_BUGZILLA_PRODUCT_VERSION=8.8\n",
      "REDHAT_SUPPORT_PRODUCT=\"Red Hat Enterprise Linux\"\n",
      "REDHAT_SUPPORT_PRODUCT_VERSION=\"8.8\"\n",
      "job is starting on cn001.delta.ncsa.illinois.edu\n",
      "Enter the number of intervals: (0 quits) pi is approximately 3.1424259850010983, Error is 0.0008333314113051\n",
      "Enter the number of intervals: (0 quits) pi is approximately 3.1416009869231245, Error is 0.0000083333333314\n",
      "Enter the number of intervals: (0 quits) pi is approximately 3.1415927369231271, Error is 0.0000000833333340\n",
      "Enter the number of intervals: (0 quits) \n",
      "real\t0m3.050s\n",
      "user\t0m0.005s\n",
      "sys\t0m0.011s\n"
     ]
    }
   ],
   "source": [
    "%%bash\n",
    "cd /projects/bbka/slurm_test_scripts/cpu/mpi_and_io_benchmarks\n",
    "pwd\n",
    "cat slurm-2377591.out"
   ]
  },
  {
   "cell_type": "code",
   "execution_count": null,
   "id": "55d57dad-d21a-4d9f-9f83-ae2509697266",
   "metadata": {},
   "outputs": [],
   "source": []
  }
 ],
 "metadata": {
  "kernelspec": {
   "display_name": "Python 3 (ipykernel)",
   "language": "python",
   "name": "python3"
  },
  "language_info": {
   "codemirror_mode": {
    "name": "ipython",
    "version": 3
   },
   "file_extension": ".py",
   "mimetype": "text/x-python",
   "name": "python",
   "nbconvert_exporter": "python",
   "pygments_lexer": "ipython3",
   "version": "3.9.12"
  }
 },
 "nbformat": 4,
 "nbformat_minor": 5
}
